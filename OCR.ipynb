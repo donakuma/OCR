{
 "metadata": {
  "language_info": {
   "codemirror_mode": {
    "name": "ipython",
    "version": 3
   },
   "file_extension": ".py",
   "mimetype": "text/x-python",
   "name": "python",
   "nbconvert_exporter": "python",
   "pygments_lexer": "ipython3",
   "version": "3.8.5"
  },
  "orig_nbformat": 2,
  "kernelspec": {
   "name": "python385jvsc74a57bd03ed507fd679985aba247ff3b783a0344ff943baaad8d3a321ab94822d2c6fc93",
   "display_name": "Python 3.8.5 64-bit ('base': conda)"
  }
 },
 "nbformat": 4,
 "nbformat_minor": 2,
 "cells": [
  {
   "cell_type": "code",
   "execution_count": null,
   "metadata": {},
   "outputs": [],
   "source": [
    "!pip install --upgrade azure-cognitiveservices-vision-computervision"
   ]
  },
  {
   "cell_type": "code",
   "execution_count": null,
   "metadata": {},
   "outputs": [],
   "source": [
    "!pip install pillow"
   ]
  },
  {
   "cell_type": "code",
   "execution_count": null,
   "metadata": {},
   "outputs": [],
   "source": [
    "from azure.cognitiveservices.vision.computervision import ComputerVisionClient\n",
    "from azure.cognitiveservices.vision.computervision.models import OperationStatusCodes\n",
    "from azure.cognitiveservices.vision.computervision.models import VisualFeatureTypes\n",
    "from msrest.authentication import CognitiveServicesCredentials\n",
    "\n",
    "from array import array\n",
    "import os\n",
    "from PIL import Image\n",
    "import sys\n",
    "import time\n",
    "import json\n",
    "\n",
    "from PIL import ImageDraw\n",
    "from PIL import ImageFont"
   ]
  },
  {
   "cell_type": "code",
   "execution_count": null,
   "metadata": {},
   "outputs": [],
   "source": [
    "subscription_key = \"afaedacab74e46f5a749bbc928a8e89b\"\n",
    "endpoint = \"https://20210508-donakuma.cognitiveservices.azure.com/\""
   ]
  },
  {
   "cell_type": "code",
   "execution_count": null,
   "metadata": {},
   "outputs": [],
   "source": [
    "computervision_client = ComputerVisionClient(endpoint, CognitiveServicesCredentials(subscription_key))"
   ]
  },
  {
   "source": [
    "## Read API を呼び出す"
   ],
   "cell_type": "markdown",
   "metadata": {}
  },
  {
   "cell_type": "code",
   "execution_count": null,
   "metadata": {},
   "outputs": [],
   "source": [
    "print(\"===== Read File - remote =====\")\n",
    "\n",
    "remote_image_handw_text_url = \"https://raw.githubusercontent.com/MicrosoftDocs/azure-docs/master/articles/cognitive-services/Computer-vision/Images/readsample.jpg\"\n",
    "\n",
    "recognize_handw_results = computervision_client.read(remote_image_handw_text_url,  raw=True)"
   ]
  },
  {
   "source": [
    "## 読み取りの結果を取得する"
   ],
   "cell_type": "markdown",
   "metadata": {}
  },
  {
   "cell_type": "code",
   "execution_count": null,
   "metadata": {},
   "outputs": [],
   "source": [
    "# Get the operation location (URL with an ID at the end) from the response\n",
    "operation_location_remote = recognize_handw_results.headers[\"Operation-Location\"]\n",
    "# Grab the ID from the URL\n",
    "operation_id = operation_location_remote.split(\"/\")[-1]\n",
    "\n",
    "# Call the \"GET\" API and wait for it to retrieve the results \n",
    "while True:\n",
    "    get_handw_text_results = computervision_client.get_read_result(operation_id)\n",
    "    if get_handw_text_results.status not in ['notStarted', 'running']:\n",
    "        break\n",
    "    time.sleep(1)\n",
    "\n",
    "# Print the detected text, line by line\n",
    "if get_handw_text_results.status == OperationStatusCodes.succeeded:\n",
    "    for text_result in get_handw_text_results.analyze_result.read_results:\n",
    "        for line in text_result.lines:\n",
    "            print(line.text)\n",
    "            print(line.bounding_box)\n",
    "print()"
   ]
  },
  {
   "source": [
    "## ローカルファイルに対応させる"
   ],
   "cell_type": "markdown",
   "metadata": {}
  },
  {
   "source": [
    "### 手書き"
   ],
   "cell_type": "markdown",
   "metadata": {}
  },
  {
   "cell_type": "code",
   "execution_count": 95,
   "metadata": {},
   "outputs": [
    {
     "output_type": "stream",
     "name": "stdout",
     "text": [
      "===== Read File - local =====\n",
      "Waiting for result...\n",
      "FamilyMart\n",
      "[1751.0, 544.0, 2981.0, 477.0, 2994.0, 711.0, 1764.0, 774.0]\n",
      "相模大野八丁目店\n",
      "[1416.0, 784.0, 2207.0, 765.0, 2208.0, 865.0, 1416.0, 882.0]\n",
      "神奈川県相模原市南区相模大野\n",
      "[1402.0, 878.0, 2802.0, 815.0, 2807.0, 925.0, 1402.0, 981.0]\n",
      "八丁目9-10\n",
      "[1412.0, 970.0, 2092.0, 956.0, 2095.0, 1048.0, 1412.0, 1068.0]\n",
      "電話:042-767-2032\n",
      "[1424.0, 1062.0, 2307.0, 1037.0, 2309.0, 1134.0, 1424.0, 1166.0]\n",
      "2021年 5月13日(木) 20:30\n",
      "[1411.0, 1253.0, 2666.0, 1207.0, 2670.0, 1309.0, 1415.0, 1343.0]\n",
      "レジ 1-0789\n",
      "[1409.0, 1346.0, 1916.0, 1336.0, 1919.0, 1429.0, 1410.0, 1439.0]\n",
      "責No. 012\n",
      "[2609.0, 1306.0, 3047.0, 1276.0, 3048.0, 1373.0, 2612.0, 1406.0]\n",
      "野菜ましラーメンサラダ\n",
      "[1407.0, 1529.0, 2512.0, 1509.0, 2515.0, 1610.0, 1410.0, 1644.0]\n",
      "領\n",
      "[1855.0, 1429.0, 1977.0, 1429.0, 1980.0, 1525.0, 1859.0, 1520.0]\n",
      "収\n",
      "[2155.0, 1426.0, 2263.0, 1416.0, 2266.0, 1513.0, 2158.0, 1520.0]\n",
      "証\n",
      "[2451.0, 1420.0, 2561.0, 1409.0, 2571.0, 1497.0, 2458.0, 1506.0]\n",
      "¥430軽\n",
      "[2722.0, 1494.0, 3049.0, 1476.0, 3054.0, 1573.0, 2727.0, 1590.0]\n",
      "ペプシコーラ\n",
      "[1415.0, 1625.0, 2049.0, 1613.0, 2052.0, 1717.0, 1415.0, 1731.0]\n",
      "600\n",
      "[2082.0, 1609.0, 2413.0, 1609.0, 2413.0, 1709.0, 2082.0, 1711.0]\n",
      "¥119軽\n",
      "[2725.0, 1595.0, 3066.0, 1583.0, 3068.0, 1670.0, 2729.0, 1686.0]\n",
      "ちょいかけプルコギ\n",
      "[1415.0, 1737.0, 2326.0, 1712.0, 2327.0, 1807.0, 1415.0, 1833.0]\n",
      "¥278軽\n",
      "[2740.0, 1695.0, 3080.0, 1678.0, 3081.0, 1773.0, 2744.0, 1785.0]\n",
      "レジ袋\n",
      "[1419.0, 1821.0, 1735.0, 1822.0, 1734.0, 1937.0, 1418.0, 1936.0]\n",
      "¥3\n",
      "[2852.0, 1793.0, 2970.0, 1786.0, 2973.0, 1879.0, 2855.0, 1889.0]\n",
      "(10%対象\n",
      "[1463.0, 2001.0, 2037.0, 2016.0, 2036.0, 2130.0, 1463.0, 2121.0]\n",
      "¥830\n",
      "[2637.0, 1902.0, 3080.0, 1892.0, 3081.0, 1990.0, 2639.0, 1996.0]\n",
      "8%対象\n",
      "[1636.0, 2128.0, 2053.0, 2121.0, 2055.0, 2225.0, 1636.0, 2231.0]\n",
      "¥3)\n",
      "[2866.0, 2004.0, 3017.0, 2001.0, 3022.0, 2096.0, 2868.0, 2100.0]\n",
      "¥827)\n",
      "[2770.0, 2104.0, 3035.0, 2103.0, 3039.0, 2201.0, 2770.0, 2205.0]\n",
      "おお\n",
      "[1441.0, 2330.0, 1533.0, 2325.0, 1533.0, 2550.0, 1450.0, 2551.0]\n",
      "(内消費税等\n",
      "[1506.0, 2234.0, 2052.0, 2207.0, 2056.0, 2321.0, 1506.0, 2341.0]\n",
      "¥61)\n",
      "[2809.0, 2218.0, 3034.0, 2215.0, 3039.0, 2309.0, 2813.0, 2302.0]\n",
      "預 り\n",
      "[1599.0, 2334.0, 1930.0, 2327.0, 1932.0, 2436.0, 1601.0, 2441.0]\n",
      "「軽」は軽減税率対象商品です。\n",
      "[1473.0, 2531.0, 2963.0, 2530.0, 2963.0, 2647.0, 1473.0, 2648.0]\n",
      "釣\n",
      "[1828.0, 2433.0, 1955.0, 2436.0, 1953.0, 2545.0, 1822.0, 2542.0]\n",
      "¥1,030\n",
      "[2448.0, 2317.0, 3114.0, 2311.0, 3115.0, 2417.0, 2448.0, 2422.0]\n",
      "¥200\n",
      "[2673.0, 2417.0, 3120.0, 2421.0, 3119.0, 2526.0, 2672.0, 2523.0]\n"
     ]
    }
   ],
   "source": [
    "print(\"===== Read File - local =====\")\n",
    "# Get image of handwriting\n",
    "# local_image_handwritten_path = os.path.join (images_folder, \"MyProgram\\readsample.jpg\")\n",
    "local_image_handwritten_path = \"img\\\\20210513_230148000_iOS.jpg\"\n",
    "# Open the image\n",
    "local_image_handwritten = open(local_image_handwritten_path, \"rb\")\n",
    "\n",
    "# Call API with image and raw response (allows you to get the operation location)\n",
    "recognize_handwriting_results = computervision_client.read_in_stream(local_image_handwritten, raw=True)\n",
    "# Get the operation location (URL with ID as last appendage)\n",
    "operation_location_local = recognize_handwriting_results.headers[\"Operation-Location\"]\n",
    "# Take the ID off and use to get results\n",
    "operation_id_local = operation_location_local.split(\"/\")[-1]\n",
    "\n",
    "# Call the \"GET\" API and wait for the retrieval of the results\n",
    "while True:\n",
    "    recognize_handwriting_result = computervision_client.get_read_result(operation_id_local)\n",
    "    if recognize_handwriting_result.status.lower () not in ['notstarted', 'running']:\n",
    "        break\n",
    "    print ('Waiting for result...')\n",
    "    time.sleep(10)\n",
    "\n",
    "# Print results, line by line\n",
    "\n",
    "img = Image.open(local_image_handwritten_path)\n",
    "draw = ImageDraw.Draw(img)\n",
    "font = ImageFont.truetype(font='meiryo.ttc', size=10)\n",
    "\n",
    "if recognize_handwriting_result.status == OperationStatusCodes.succeeded:\n",
    "    for text_result in recognize_handwriting_result.analyze_result.read_results:\n",
    "        for line in text_result.lines:\n",
    "\n",
    "            print(line.text)\n",
    "            print(line.bounding_box)\n",
    "#             img_draw = line.bounding_box\n",
    "#             draw.rectangle([(img_draw[0], img_draw[1]),\n",
    "#                             (img_draw[4], img_draw[5])],\n",
    "#                             fill=None,\n",
    "#                             outline='yellow',\n",
    "#                             width=5)\n",
    "#             text_w, text_y = draw.textsize(line.text, font=font)\n",
    "#             draw.rectangle([(img_draw[0], img_draw[1]),\n",
    "#                             (img_draw[0]+text_w, img_draw[1]+text_y)],            \n",
    "#                             fill='yellow', width=5)\n",
    "#             draw.text((img_draw[0], img_draw[1]), line.text, fill='black', font=font)\n",
    "\n",
    "# img"
   ]
  },
  {
   "cell_type": "code",
   "execution_count": 108,
   "metadata": {},
   "outputs": [
    {
     "output_type": "stream",
     "name": "stdout",
     "text": [
      "{'additional_properties': {}, 'language': None, 'bounding_box': [1751.0, 544.0, 2981.0, 477.0, 2994.0, 711.0, 1764.0, 774.0], 'appearance': <azure.cognitiveservices.vision.computervision.models._models_py3.Appearance object at 0x00000113FC6B7730>, 'text': 'FamilyMart', 'words': [<azure.cognitiveservices.vision.computervision.models._models_py3.Word object at 0x00000113FC6B7760>]}\n"
     ]
    }
   ],
   "source": [
    "# print(text_result.lines[0])\n",
    "t1 = recognize_handwriting_result.analyze_result\n",
    "# print(t1)\n",
    "print(t1.read_results[0].lines[0])\n",
    "# print(recognize_handwriting_result.analyze_result.read_results[0])"
   ]
  },
  {
   "cell_type": "code",
   "execution_count": null,
   "metadata": {},
   "outputs": [],
   "source": [
    "img = Image.open(local_image_handwritten_path)\n",
    "draw = ImageDraw.Draw(img)\n",
    "font = ImageFont.truetype(font='meiryo.ttc', size=50)\n",
    "\n"
   ]
  },
  {
   "cell_type": "code",
   "execution_count": null,
   "metadata": {},
   "outputs": [],
   "source": [
    "for bounding_list in bounding_lists:\n",
    "    img_draw = bounding_list\n",
    "    draw.polygon((\n",
    "        (img_draw[0], img_draw[1]),\n",
    "        (img_draw[2], img_draw[3]),\n",
    "        (img_draw[4], img_draw[5]),\n",
    "        (img_draw[6], img_draw[7])),\n",
    "        fill=None,\n",
    "        outline='yellow',\n",
    "    )\n",
    "\n",
    "img"
   ]
  },
  {
   "cell_type": "code",
   "execution_count": null,
   "metadata": {},
   "outputs": [],
   "source": [
    "for bounding_list in bounding_lists:\n",
    "    img_draw = bounding_list\n",
    "    draw.rectangle((\n",
    "        (img_draw[0], img_draw[1]),\n",
    "        (img_draw[4], img_draw[5])),\n",
    "        fill=None,\n",
    "        outline='yellow',\n",
    "        width=5\n",
    "    )\n",
    "\n",
    "img"
   ]
  },
  {
   "cell_type": "code",
   "execution_count": null,
   "metadata": {},
   "outputs": [],
   "source": [
    "bounding_lists"
   ]
  },
  {
   "cell_type": "code",
   "execution_count": null,
   "metadata": {},
   "outputs": [],
   "source": [
    "img_draw[0]"
   ]
  },
  {
   "cell_type": "code",
   "execution_count": null,
   "metadata": {},
   "outputs": [],
   "source": [
    "print(line.appearance.style)"
   ]
  },
  {
   "cell_type": "code",
   "execution_count": null,
   "metadata": {},
   "outputs": [],
   "source": [
    "img_draw = bounding_list[0]['bounding']\n",
    "img_draw"
   ]
  },
  {
   "cell_type": "code",
   "execution_count": null,
   "metadata": {},
   "outputs": [],
   "source": [
    "bounding_list[0]['bounding'][0]"
   ]
  },
  {
   "cell_type": "code",
   "execution_count": null,
   "metadata": {},
   "outputs": [],
   "source": [
    "from PIL import ImageDraw\n",
    "from PIL import ImageFont"
   ]
  },
  {
   "cell_type": "code",
   "execution_count": null,
   "metadata": {},
   "outputs": [],
   "source": [
    "img = Image.open(\"wakeupcat.jpg\")\n",
    "draw = ImageDraw.Draw(img)\n",
    "draw.polygon(((img_draw[0], img_draw[1]),(img_draw[2], img_draw[3]),(img_draw[4], img_draw[5]),(img_draw[6], img_draw[7])), outline='red')\n",
    "img"
   ]
  },
  {
   "cell_type": "code",
   "execution_count": null,
   "metadata": {},
   "outputs": [],
   "source": []
  }
 ]
}